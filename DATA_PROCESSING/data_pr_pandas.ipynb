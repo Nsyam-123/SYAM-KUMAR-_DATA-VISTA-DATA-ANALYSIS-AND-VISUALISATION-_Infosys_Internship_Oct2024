{
  "cells": [
    {
      "cell_type": "code",
      "execution_count": 4,
      "metadata": {
        "trusted": true
      },
      "outputs": [],
      "source": [
        "import pandas as pd\n",
        "df = pd.read_csv('data.csv')\n",
        "#df = pd.read_excel('file.xlsx')\n",
        "#df = pd.read_json('file.json')"
      ]
    },
    {
      "cell_type": "code",
      "execution_count": 5,
      "metadata": {
        "trusted": true
      },
      "outputs": [
        {
          "data": {
            "text/html": [
              "<div>\n",
              "<style scoped>\n",
              "    .dataframe tbody tr th:only-of-type {\n",
              "        vertical-align: middle;\n",
              "    }\n",
              "\n",
              "    .dataframe tbody tr th {\n",
              "        vertical-align: top;\n",
              "    }\n",
              "\n",
              "    .dataframe thead th {\n",
              "        text-align: right;\n",
              "    }\n",
              "</style>\n",
              "<table border=\"1\" class=\"dataframe\">\n",
              "  <thead>\n",
              "    <tr style=\"text-align: right;\">\n",
              "      <th></th>\n",
              "      <th>User ID</th>\n",
              "      <th>country</th>\n",
              "      <th>Gender</th>\n",
              "      <th>Age</th>\n",
              "      <th>salary</th>\n",
              "      <th>Purchased</th>\n",
              "    </tr>\n",
              "  </thead>\n",
              "  <tbody>\n",
              "    <tr>\n",
              "      <th>0</th>\n",
              "      <td>15624510</td>\n",
              "      <td>India</td>\n",
              "      <td>Male</td>\n",
              "      <td>19.0</td>\n",
              "      <td>19000.0</td>\n",
              "      <td>0</td>\n",
              "    </tr>\n",
              "    <tr>\n",
              "      <th>1</th>\n",
              "      <td>15810944</td>\n",
              "      <td>USA</td>\n",
              "      <td>Male</td>\n",
              "      <td>35.0</td>\n",
              "      <td>NaN</td>\n",
              "      <td>1</td>\n",
              "    </tr>\n",
              "    <tr>\n",
              "      <th>2</th>\n",
              "      <td>15668575</td>\n",
              "      <td>France</td>\n",
              "      <td>Female</td>\n",
              "      <td>26.0</td>\n",
              "      <td>43000.0</td>\n",
              "      <td>0</td>\n",
              "    </tr>\n",
              "    <tr>\n",
              "      <th>3</th>\n",
              "      <td>15603246</td>\n",
              "      <td>USA</td>\n",
              "      <td>Female</td>\n",
              "      <td>NaN</td>\n",
              "      <td>57000.0</td>\n",
              "      <td>0</td>\n",
              "    </tr>\n",
              "    <tr>\n",
              "      <th>4</th>\n",
              "      <td>15804002</td>\n",
              "      <td>France</td>\n",
              "      <td>Male</td>\n",
              "      <td>19.0</td>\n",
              "      <td>76000.0</td>\n",
              "      <td>0</td>\n",
              "    </tr>\n",
              "  </tbody>\n",
              "</table>\n",
              "</div>"
            ],
            "text/plain": [
              "    User ID country  Gender   Age   salary  Purchased\n",
              "0  15624510   India    Male  19.0  19000.0          0\n",
              "1  15810944     USA    Male  35.0      NaN          1\n",
              "2  15668575  France  Female  26.0  43000.0          0\n",
              "3  15603246     USA  Female   NaN  57000.0          0\n",
              "4  15804002  France    Male  19.0  76000.0          0"
            ]
          },
          "execution_count": 5,
          "metadata": {},
          "output_type": "execute_result"
        }
      ],
      "source": [
        "df.head()"
      ]
    },
    {
      "cell_type": "code",
      "execution_count": 9,
      "metadata": {
        "trusted": true
      },
      "outputs": [
        {
          "name": "stdout",
          "output_type": "stream",
          "text": [
            "Headings: ['User ID', 'country', 'Gender', 'Age', 'salary', 'Purchased']\n"
          ]
        }
      ],
      "source": [
        "import pandas as pd\n",
        "\n",
        "# Load the CSV file\n",
        "df = pd.read_csv('data.csv')\n",
        "\n",
        "# Extract the headings (column names)\n",
        "headings = df.columns.tolist()\n",
        "\n",
        "# Print the headings\n",
        "print(\"Headings:\", headings)"
      ]
    },
    {
      "cell_type": "code",
      "execution_count": 11,
      "metadata": {
        "trusted": true
      },
      "outputs": [
        {
          "name": "stdout",
          "output_type": "stream",
          "text": [
            "Headings: ['User ID', 'country', 'Gender', 'Age', 'salary', 'Purchased']\n"
          ]
        }
      ],
      "source": [
        "import pandas as pd\n",
        "\n",
        "# Load only the header row from the CSV\n",
        "df = pd.read_csv('data.csv', nrows=0)\n",
        "\n",
        "# Extract the headings\n",
        "headings = df.columns.tolist()\n",
        "\n",
        "# Print the headings\n",
        "print(\"Headings:\", headings)"
      ]
    },
    {
      "cell_type": "code",
      "execution_count": 12,
      "metadata": {
        "trusted": true
      },
      "outputs": [
        {
          "name": "stdout",
          "output_type": "stream",
          "text": [
            "Original DataFrame:\n",
            "   OldName1  OldName2  OldName3\n",
            "0         1         4         7\n",
            "1         2         5         8\n",
            "2         3         6         9\n",
            "\n",
            "DataFrame after renaming all columns:\n",
            "   NewName1  NewName2  NewName3\n",
            "0         1         4         7\n",
            "1         2         5         8\n",
            "2         3         6         9\n"
          ]
        }
      ],
      "source": [
        "import pandas as pd\n",
        "\n",
        "# Sample DataFrame\n",
        "df = pd.DataFrame({\n",
        "    'OldName1': [1, 2, 3],\n",
        "    'OldName2': [4, 5, 6],\n",
        "    'OldName3': [7, 8, 9]\n",
        "})\n",
        "\n",
        "# Print original DataFrame\n",
        "print(\"Original DataFrame:\")\n",
        "print(df)\n",
        "\n",
        "# Rename all columns\n",
        "df.columns = ['NewName1', 'NewName2', 'NewName3']\n",
        "\n",
        "# Print updated DataFrame\n",
        "print(\"\\nDataFrame after renaming all columns:\")\n",
        "print(df)"
      ]
    },
    {
      "cell_type": "code",
      "execution_count": 2,
      "metadata": {
        "trusted": true
      },
      "outputs": [
        {
          "name": "stdout",
          "output_type": "stream",
          "text": [
            "Original DataFrame:\n",
            "    User ID country  Gender   Age   salary  Purchased\n",
            "0  15624510   India    Male  19.0  19000.0          0\n",
            "1  15810944     USA    Male  35.0      NaN          1\n",
            "2  15668575  France  Female  26.0  43000.0          0\n",
            "3  15603246     USA  Female   NaN  57000.0          0\n",
            "4  15804002  France    Male  19.0  76000.0          0\n",
            "\n",
            "DataFrame Info:\n",
            "<class 'pandas.core.frame.DataFrame'>\n",
            "RangeIndex: 20 entries, 0 to 19\n",
            "Data columns (total 6 columns):\n",
            " #   Column     Non-Null Count  Dtype  \n",
            "---  ------     --------------  -----  \n",
            " 0   User ID    20 non-null     int64  \n",
            " 1   country    19 non-null     object \n",
            " 2   Gender     20 non-null     object \n",
            " 3   Age        17 non-null     float64\n",
            " 4   salary     19 non-null     float64\n",
            " 5   Purchased  20 non-null     int64  \n",
            "dtypes: float64(2), int64(2), object(2)\n",
            "memory usage: 872.0+ bytes\n",
            "None\n",
            "\n",
            "Statistical Summary:\n",
            "            User ID        Age         salary  Purchased\n",
            "count  2.000000e+01  17.000000      19.000000  20.000000\n",
            "mean   1.567881e+07  29.529412   57368.421053   0.400000\n",
            "std    6.987218e+04   9.348246   33128.052105   0.502625\n",
            "min    1.557077e+07  18.000000   18000.000000   0.000000\n",
            "25%    1.561468e+07  25.000000   28000.000000   0.000000\n",
            "50%    1.569626e+07  27.000000   57000.000000   0.000000\n",
            "75%    1.572768e+07  35.000000   80000.000000   1.000000\n",
            "max    1.581094e+07  47.000000  150000.000000   1.000000\n",
            "\n",
            "Missing Values in Each Column:\n",
            "User ID      0\n",
            "country      1\n",
            "Gender       0\n",
            "Age          3\n",
            "salary       1\n",
            "Purchased    0\n",
            "dtype: int64\n",
            "\n",
            "Number of Duplicate Rows: 0\n",
            "\n",
            "Cleaned DataFrame Info:\n",
            "<class 'pandas.core.frame.DataFrame'>\n",
            "RangeIndex: 20 entries, 0 to 19\n",
            "Data columns (total 6 columns):\n",
            " #   Column     Non-Null Count  Dtype  \n",
            "---  ------     --------------  -----  \n",
            " 0   User ID    20 non-null     int64  \n",
            " 1   country    19 non-null     object \n",
            " 2   Gender     20 non-null     object \n",
            " 3   Age        20 non-null     float64\n",
            " 4   salary     20 non-null     float64\n",
            " 5   Purchased  20 non-null     int64  \n",
            "dtypes: float64(2), int64(2), object(2)\n",
            "memory usage: 872.0+ bytes\n",
            "None\n",
            "\n",
            "Cleaned DataFrame:\n",
            "    User ID country  Gender   Age   salary  Purchased\n",
            "0  15624510   india    Male  19.0  19000.0          0\n",
            "1  15810944     usa    Male  35.0      0.0          1\n",
            "2  15668575  france  Female  26.0  43000.0          0\n",
            "3  15603246     usa  Female   0.0  57000.0          0\n",
            "4  15804002  france    Male  19.0  76000.0          0\n"
          ]
        }
      ],
      "source": [
        "import pandas as pd\n",
        "import numpy as np\n",
        "from scipy import stats\n",
        "\n",
        "# Load data from a CSV file\n",
        "df = pd.read_csv('data.csv')\n",
        "\n",
        "# Inspect the data\n",
        "print(\"Original DataFrame:\")\n",
        "print(df.head())\n",
        "print(\"\\nDataFrame Info:\")\n",
        "print(df.info())\n",
        "print(\"\\nStatistical Summary:\")\n",
        "print(df.describe())\n",
        "\n",
        "# Handling Missing Values\n",
        "print(\"\\nMissing Values in Each Column:\")\n",
        "print(df.isnull().sum())\n",
        "\n",
        "# Drop rows with any missing values (optional)\n",
        "# df_cleaned = df.dropna()\n",
        "\n",
        "# Fill missing values with a specific value (e.g., 0)\n",
        "df.fillna(value=0, inplace=True)\n",
        "\n",
        "# Fill missing values with the mean of the column for a specific column\n",
        "# df['column_name'].fillna(df['column_name'].mean(), inplace=True)\n",
        "\n",
        "# Removing Duplicates\n",
        "print(\"\\nNumber of Duplicate Rows:\", df.duplicated().sum())\n",
        "df_cleaned = df.drop_duplicates()\n",
        "\n",
        "# Changing Data Types\n",
        "# Convert a column to a specific data type (e.g., integer)\n",
        "# df_cleaned['column_name'] = df_cleaned['column_name'].astype(int)\n",
        "\n",
        "# Convert a string column to datetime\n",
        "# df_cleaned['date_column'] = pd.to_datetime(df_cleaned['date_column'])\n",
        "\n",
        "# Renaming Columns\n",
        "df_cleaned.rename(columns={'OldName': 'NewName'}, inplace=True)\n",
        "\n",
        "# Filtering Rows\n",
        "# Filter rows where 'column_name' > threshold_value\n",
        "# df_filtered = df_cleaned[df_cleaned['column_name'] > threshold_value]\n",
        "\n",
        "# Standardizing Text Data\n",
        "# Convert a text column to lowercase\n",
        "df_cleaned['country'] = df_cleaned['country'].str.lower()\n",
        "# Remove leading and trailing whitespace\n",
        "df_cleaned['country'] = df_cleaned['country'].str.strip()\n",
        "# Replace specific strings\n",
        "# df_cleaned['text_column'] = df_cleaned['text_column'].str.replace('old_value', 'new_value')\n",
        "\n",
        "# Binning Continuous Data\n",
        "# Bin a continuous variable into categories\n",
        "# bins = [0, 50, 100]\n",
        "# labels = ['Low', 'High']\n",
        "# df_cleaned['binned_column'] = pd.cut(df_cleaned['continuous_column'], bins=bins, labels=labels)\n",
        "\n",
        "# Outlier Detection and Removal\n",
        "df_cleaned = df_cleaned[(np.abs(stats.zscore(df_cleaned['Age'])) < 3)]\n",
        "\n",
        "# Final Check\n",
        "print(\"\\nCleaned DataFrame Info:\")\n",
        "print(df_cleaned.info())\n",
        "print(\"\\nCleaned DataFrame:\")\n",
        "print(df_cleaned.head())\n",
        "\n",
        "# Export the cleaned DataFrame to a new CSV file\n",
        "df_cleaned.to_csv('cleaned_data.csv', index=False)"
      ]
    },
    {
      "cell_type": "code",
      "execution_count": null,
      "metadata": {
        "trusted": true
      },
      "outputs": [],
      "source": [
        "#import os\n",
        "#import pandas as pd\n",
        "#import subprocess\n",
        "\n",
        "# Extract the CAB file using cabextract (available on Linux/Windows)\n",
        "#subprocess.run(['cabextract', 'path_to_file.cab', '-d', 'output_directory'])\n",
        "\n",
        "# Load extracted CSV into pandas DataFrame\n",
        "#df = pd.read_csv('output_directory/extracted_file.csv')\n",
        "\n",
        "# Inspect the data\n",
        "#print(df.head())\n",
        "#print(df.info())"
      ]
    }
  ],
  "metadata": {
    "kernelspec": {
      "display_name": "Python (Pyodide)",
      "language": "python",
      "name": "python"
    },
    "language_info": {
      "codemirror_mode": {
        "name": "python",
        "version": 3
      },
      "file_extension": ".py",
      "mimetype": "text/x-python",
      "name": "python",
      "nbconvert_exporter": "python",
      "pygments_lexer": "ipython3",
      "version": "3.8"
    }
  },
  "nbformat": 4,
  "nbformat_minor": 4
}
